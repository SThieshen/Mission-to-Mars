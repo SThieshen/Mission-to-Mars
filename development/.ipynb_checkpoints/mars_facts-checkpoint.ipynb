{
 "cells": [
  {
   "cell_type": "code",
   "execution_count": 1,
   "metadata": {},
   "outputs": [
    {
     "name": "stdout",
     "output_type": "stream",
     "text": [
      "\n"
     ]
    },
    {
     "name": "stderr",
     "output_type": "stream",
     "text": [
      "[WDM] - ====== WebDriver manager ======\n",
      "INFO:WDM:====== WebDriver manager ======\n",
      "[WDM] - Current google-chrome version is 107.0.5304\n",
      "INFO:WDM:Current google-chrome version is 107.0.5304\n",
      "[WDM] - Get LATEST chromedriver version for 107.0.5304 google-chrome\n",
      "INFO:WDM:Get LATEST chromedriver version for 107.0.5304 google-chrome\n",
      "[WDM] - Driver [C:\\Users\\lance\\.wdm\\drivers\\chromedriver\\win32\\107.0.5304.62\\chromedriver.exe] found in cache\n",
      "INFO:WDM:Driver [C:\\Users\\lance\\.wdm\\drivers\\chromedriver\\win32\\107.0.5304.62\\chromedriver.exe] found in cache\n"
     ]
    }
   ],
   "source": [
    "from splinter import Browser\n",
    "from bs4 import BeautifulSoup as soup\n",
    "from webdriver_manager.chrome import ChromeDriverManager\n",
    "\n",
    "# Set up Splinter\n",
    "executable_path = {'executable_path': ChromeDriverManager().install()}\n",
    "browser = Browser('chrome', **executable_path, headless=False)\n",
    "\n",
    "# Visit the Mars Facts site\n",
    "url = 'https://galaxyfacts-mars.com/'\n",
    "browser.visit(url)\n",
    "\n",
    "html = browser.html\n",
    "html_soup = soup(html, 'html.parser')"
   ]
  },
  {
   "cell_type": "code",
   "execution_count": 2,
   "metadata": {},
   "outputs": [],
   "source": [
    "table = html_soup.find('table', class_='table-striped')"
   ]
  },
  {
   "cell_type": "code",
   "execution_count": 3,
   "metadata": {},
   "outputs": [],
   "source": [
    "mars_facts = {}\n",
    "rows = table.find_all('tr')\n",
    "for row in rows:\n",
    "    row_heading = row.find('th').text\n",
    "    row_data = row.find('td').text.strip()\n",
    "    mars_facts[row_heading] = row_data"
   ]
  },
  {
   "cell_type": "code",
   "execution_count": 4,
   "metadata": {},
   "outputs": [],
   "source": [
    "browser.quit()"
   ]
  },
  {
   "cell_type": "code",
   "execution_count": null,
   "metadata": {},
   "outputs": [],
   "source": []
  }
 ],
 "metadata": {
  "kernelspec": {
   "display_name": "PythonData",
   "language": "python",
   "name": "pythondata"
  },
  "language_info": {
   "codemirror_mode": {
    "name": "ipython",
    "version": 3
   },
   "file_extension": ".py",
   "mimetype": "text/x-python",
   "name": "python",
   "nbconvert_exporter": "python",
   "pygments_lexer": "ipython3",
   "version": "3.6.10"
  }
 },
 "nbformat": 4,
 "nbformat_minor": 4
}
